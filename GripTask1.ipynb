{
  "nbformat": 4,
  "nbformat_minor": 0,
  "metadata": {
    "colab": {
      "name": "GripTask1.ipynb",
      "provenance": [],
      "collapsed_sections": [],
      "authorship_tag": "ABX9TyP0jTxtb8u42/7l4GZqwpC9",
      "include_colab_link": true
    },
    "kernelspec": {
      "name": "python3",
      "display_name": "Python 3"
    },
    "language_info": {
      "name": "python"
    }
  },
  "cells": [
    {
      "cell_type": "markdown",
      "metadata": {
        "id": "view-in-github",
        "colab_type": "text"
      },
      "source": [
        "<a href=\"https://colab.research.google.com/github/Sanjeev-9/GRIPTASK/blob/main/GripTask1.ipynb\" target=\"_parent\"><img src=\"https://colab.research.google.com/assets/colab-badge.svg\" alt=\"Open In Colab\"/></a>"
      ]
    },
    {
      "cell_type": "markdown",
      "metadata": {
        "id": "E6X2vCKBcVFy"
      },
      "source": [
        "##**UKKALAM VENKATA SANJEEV NAIDU**\n",
        "\n",
        "\n",
        "\n"
      ]
    },
    {
      "cell_type": "markdown",
      "metadata": {
        "id": "7MxFiIZ1c-A1"
      },
      "source": [
        "##**The Sparks Foundation**\n"
      ]
    },
    {
      "cell_type": "markdown",
      "metadata": {
        "id": "Xe5zV6pbdAJP"
      },
      "source": [
        "###**TASK 1 : Prediction using supervised machine learning(Level-Beginner)**"
      ]
    },
    {
      "cell_type": "code",
      "metadata": {
        "id": "dj_FC1tPcTwG"
      },
      "source": [
        "import pandas as pd\n",
        "import numpy as np\n",
        "import matplotlib.pyplot as plt\n",
        "%matplotlib inline\n",
        "import seaborn as sns\n",
        "import sklearn\n",
        "from sklearn.model_selection import train_test_split\n",
        "from sklearn.linear_model import LinearRegression"
      ],
      "execution_count": null,
      "outputs": []
    },
    {
      "cell_type": "markdown",
      "metadata": {
        "id": "r_PlaNG_eTXC"
      },
      "source": [
        "**Load data**"
      ]
    },
    {
      "cell_type": "code",
      "metadata": {
        "id": "0rc-GyyeeIHm"
      },
      "source": [
        "data = pd.read_csv('https://raw.githubusercontent.com/AdiPersonalWorks/Random/master/student_scores%20-%20student_scores.csv')\n"
      ],
      "execution_count": null,
      "outputs": []
    },
    {
      "cell_type": "markdown",
      "metadata": {
        "id": "vc3LNOW2eQNG"
      },
      "source": [
        "**Explore the data**"
      ]
    },
    {
      "cell_type": "code",
      "metadata": {
        "colab": {
          "base_uri": "https://localhost:8080/"
        },
        "id": "WtzyqH3HefFP",
        "outputId": "19662275-e536-4d1e-d1a3-9c13f41c19a1"
      },
      "source": [
        "print(data.head())"
      ],
      "execution_count": null,
      "outputs": [
        {
          "output_type": "stream",
          "text": [
            "   Hours  Scores\n",
            "0    2.5      21\n",
            "1    5.1      47\n",
            "2    3.2      27\n",
            "3    8.5      75\n",
            "4    3.5      30\n"
          ],
          "name": "stdout"
        }
      ]
    },
    {
      "cell_type": "code",
      "metadata": {
        "colab": {
          "base_uri": "https://localhost:8080/"
        },
        "id": "UHTFd5U3emFw",
        "outputId": "205f6cc2-6cc6-4665-eca4-b91028544349"
      },
      "source": [
        "print(data.tail())"
      ],
      "execution_count": null,
      "outputs": [
        {
          "output_type": "stream",
          "text": [
            "    Hours  Scores\n",
            "20    2.7      30\n",
            "21    4.8      54\n",
            "22    3.8      35\n",
            "23    6.9      76\n",
            "24    7.8      86\n"
          ],
          "name": "stdout"
        }
      ]
    },
    {
      "cell_type": "code",
      "metadata": {
        "colab": {
          "base_uri": "https://localhost:8080/"
        },
        "id": "bso-sLRle0xm",
        "outputId": "38e7918f-e4a4-4c36-a799-5a8b77534694"
      },
      "source": [
        "print(data.info())"
      ],
      "execution_count": null,
      "outputs": [
        {
          "output_type": "stream",
          "text": [
            "<class 'pandas.core.frame.DataFrame'>\n",
            "RangeIndex: 25 entries, 0 to 24\n",
            "Data columns (total 2 columns):\n",
            " #   Column  Non-Null Count  Dtype  \n",
            "---  ------  --------------  -----  \n",
            " 0   Hours   25 non-null     float64\n",
            " 1   Scores  25 non-null     int64  \n",
            "dtypes: float64(1), int64(1)\n",
            "memory usage: 528.0 bytes\n",
            "None\n"
          ],
          "name": "stdout"
        }
      ]
    },
    {
      "cell_type": "code",
      "metadata": {
        "colab": {
          "base_uri": "https://localhost:8080/"
        },
        "id": "lcmbax1XfJmv",
        "outputId": "c77c0ec4-dc97-4b43-b820-745688b5718a"
      },
      "source": [
        "print(data.shape)"
      ],
      "execution_count": null,
      "outputs": [
        {
          "output_type": "stream",
          "text": [
            "(25, 2)\n"
          ],
          "name": "stdout"
        }
      ]
    },
    {
      "cell_type": "code",
      "metadata": {
        "colab": {
          "base_uri": "https://localhost:8080/"
        },
        "id": "TNO7_Q84fhIU",
        "outputId": "fd294d02-7514-45db-c78e-3c429dd3785c"
      },
      "source": [
        "print(data.describe)"
      ],
      "execution_count": null,
      "outputs": [
        {
          "output_type": "stream",
          "text": [
            "<bound method NDFrame.describe of     Hours  Scores\n",
            "0     2.5      21\n",
            "1     5.1      47\n",
            "2     3.2      27\n",
            "3     8.5      75\n",
            "4     3.5      30\n",
            "5     1.5      20\n",
            "6     9.2      88\n",
            "7     5.5      60\n",
            "8     8.3      81\n",
            "9     2.7      25\n",
            "10    7.7      85\n",
            "11    5.9      62\n",
            "12    4.5      41\n",
            "13    3.3      42\n",
            "14    1.1      17\n",
            "15    8.9      95\n",
            "16    2.5      30\n",
            "17    1.9      24\n",
            "18    6.1      67\n",
            "19    7.4      69\n",
            "20    2.7      30\n",
            "21    4.8      54\n",
            "22    3.8      35\n",
            "23    6.9      76\n",
            "24    7.8      86>\n"
          ],
          "name": "stdout"
        }
      ]
    },
    {
      "cell_type": "markdown",
      "metadata": {
        "id": "MjENl2hVfT_2"
      },
      "source": [
        "**Visualizing the data**"
      ]
    },
    {
      "cell_type": "code",
      "metadata": {
        "colab": {
          "base_uri": "https://localhost:8080/",
          "height": 350
        },
        "id": "Jy7FSP7bfc8N",
        "outputId": "545e6648-2e36-400c-e9e5-ec2602e0b4bb"
      },
      "source": [
        "plt.figure(figsize=(9,5))\n",
        "plt.scatter(data['Hours'],data['Scores'],color = 'blue',marker = 'D')\n",
        "plt.xlabel('Hours of study')\n",
        "plt.ylabel('Score of study')\n",
        "plt.title('Comaprision of  Time and Scores')\n",
        "plt.grid()\n",
        "plt.show()"
      ],
      "execution_count": null,
      "outputs": [
        {
          "output_type": "display_data",
          "data": {
            "image/png": "[encoded data removed]",
            "text/plain": [
              "<Figure size 648x360 with 1 Axes>"
            ]
          },
          "metadata": {
            "tags": [],
            "needs_background": "light"
          }
        }
      ]
    },
    {
      "cell_type": "markdown",
      "metadata": {
        "id": "ezR9DScKg8lW"
      },
      "source": [
        "*From the graph above, we can clearly see that there is a positive linear relation between the number of hours studied and percentage of\n",
        "score.*"
      ]
    },
    {
      "cell_type": "markdown",
      "metadata": {
        "id": "pPk4uO1HiXzI"
      },
      "source": [
        "**Preparing the data**\n"
      ]
    },
    {
      "cell_type": "markdown",
      "metadata": {
        "id": "nAFbzAKpjLqR"
      },
      "source": [
        "\n",
        "**Training the Algorithm**\n",
        "\n"
      ]
    },
    {
      "cell_type": "code",
      "metadata": {
        "id": "Vj-WXyaxi-Pl"
      },
      "source": [
        "y = data['Scores'].values\n",
        "X = data['Hours'].values.reshape(-1,1)\n",
        "X_train, X_test, y_train, y_test = train_test_split(X, y, test_size=0.2, random_state=0)"
      ],
      "execution_count": null,
      "outputs": []
    },
    {
      "cell_type": "code",
      "metadata": {
        "colab": {
          "base_uri": "https://localhost:8080/"
        },
        "id": "X8wtiLdljOtY",
        "outputId": "48e91888-5dea-456c-e5c1-57d1e047aa65"
      },
      "source": [
        "#We have split our data into training and testing sets, and now is finally the time to train our algorithm.\n",
        "\n",
        "trainregressor = LinearRegression()\n",
        "trainregressor.fit(X_train, y_train)\n",
        "print(trainregressor.coef_)\n",
        "print(trainregressor.intercept_)"
      ],
      "execution_count": null,
      "outputs": [
        {
          "output_type": "stream",
          "text": [
            "[9.91065648]\n",
            "2.018160041434662\n"
          ],
          "name": "stdout"
        }
      ]
    },
    {
      "cell_type": "code",
      "metadata": {
        "colab": {
          "base_uri": "https://localhost:8080/"
        },
        "id": "eHxbzrchj0dp",
        "outputId": "2be8345f-3ff2-4103-86e2-d89aed8af9b9"
      },
      "source": [
        "train_pred = trainregressor.predict(X_train)\n",
        "print(train_pred)\n"
      ],
      "execution_count": null,
      "outputs": [
        {
          "output_type": "stream",
          "text": [
            "[39.67865467 20.84840735 79.32128059 70.40168976 12.91988217 52.56250809\n",
            " 78.33021494 34.72332643 84.27660883 93.19619966 62.47316457 36.70545772\n",
            " 28.77693254 56.52677068 28.77693254 86.25874013 26.79480124 49.58931115\n",
            " 90.22300272 46.6161142 ]\n"
          ],
          "name": "stdout"
        }
      ]
    },
    {
      "cell_type": "code",
      "metadata": {
        "colab": {
          "base_uri": "https://localhost:8080/",
          "height": 295
        },
        "id": "dgKGUBSLjicZ",
        "outputId": "00bd0afa-38db-4ed8-bf3b-def9213207cf"
      },
      "source": [
        "\n",
        "plt.scatter(X_train,y_train,color= 'b',marker = 'x')\n",
        "plt.plot(X_train,train_pred,color='limegreen')\n",
        "plt.xlabel('Time(Hrs)')\n",
        "plt.ylabel('Scores',)\n",
        "plt.title('Regression Line For Trained Data')\n",
        "plt.grid()\n",
        "plt.show()"
      ],
      "execution_count": null,
      "outputs": [
        {
          "output_type": "display_data",
          "data": {
            "image/png": "[encoded data removed]",
            "text/plain": [
              "<Figure size 432x288 with 1 Axes>"
            ]
          },
          "metadata": {
            "tags": [],
            "needs_background": "light"
          }
        }
      ]
    },
    {
      "cell_type": "code",
      "metadata": {
        "colab": {
          "base_uri": "https://localhost:8080/"
        },
        "id": "cg1Wlo48nEa5",
        "outputId": "43d98f41-e41e-4301-beef-05acc0a67235"
      },
      "source": [
        "#R-Squared value for Acuuracy of Learning to the Machine (For Trained Data)\n",
        "Train_R_Squared_value = trainregressor.score(X_train,y_train)\n",
        "Train_R_Squared_value"
      ],
      "execution_count": null,
      "outputs": [
        {
          "output_type": "execute_result",
          "data": {
            "text/plain": [
              "0.9515510725211553"
            ]
          },
          "metadata": {
            "tags": []
          },
          "execution_count": 13
        }
      ]
    },
    {
      "cell_type": "code",
      "metadata": {
        "id": "tJghVS7GnKF3"
      },
      "source": [
        "testregressor = LinearRegression()\n",
        "testregressor.fit(X_test, y_test)\n",
        "testpredict=testregressor.predict(X_test)"
      ],
      "execution_count": null,
      "outputs": []
    },
    {
      "cell_type": "code",
      "metadata": {
        "colab": {
          "base_uri": "https://localhost:8080/",
          "height": 295
        },
        "id": "hPP6XohYnlIK",
        "outputId": "1a41d96c-daa6-4812-9f41-aff3ecb9b5e8"
      },
      "source": [
        "plt.scatter(X_test,y_test,color= 'r',marker = 'p')\n",
        "plt.plot(X_test,testpredict)\n",
        "plt.xlabel('Time(Hrs)')\n",
        "plt.ylabel('Scores',)\n",
        "plt.title('Regression Line For Tested Data')\n",
        "plt.grid()\n",
        "plt.show()"
      ],
      "execution_count": null,
      "outputs": [
        {
          "output_type": "display_data",
          "data": {
            "image/png": "[encoded data removed]",
            "text/plain": [
              "<Figure size 432x288 with 1 Axes>"
            ]
          },
          "metadata": {
            "tags": [],
            "needs_background": "light"
          }
        }
      ]
    },
    {
      "cell_type": "markdown",
      "metadata": {
        "id": "lZKS7tsuoTuF"
      },
      "source": [
        "**Actual vs Predicted Data**"
      ]
    },
    {
      "cell_type": "code",
      "metadata": {
        "colab": {
          "base_uri": "https://localhost:8080/"
        },
        "id": "zg_MGLzpnzi2",
        "outputId": "703407da-b897-4a58-a548-b11a7e9def96"
      },
      "source": [
        "dataf = pd.DataFrame({'Actual': y_train, 'Predicted': train_pred})  \n",
        "print(dataf)"
      ],
      "execution_count": null,
      "outputs": [
        {
          "output_type": "stream",
          "text": [
            "    Actual  Predicted\n",
            "0       35  39.678655\n",
            "1       24  20.848407\n",
            "2       86  79.321281\n",
            "3       76  70.401690\n",
            "4       17  12.919882\n",
            "5       47  52.562508\n",
            "6       85  78.330215\n",
            "7       42  34.723326\n",
            "8       81  84.276609\n",
            "9       88  93.196200\n",
            "10      67  62.473165\n",
            "11      30  36.705458\n",
            "12      25  28.776933\n",
            "13      60  56.526771\n",
            "14      30  28.776933\n",
            "15      75  86.258740\n",
            "16      21  26.794801\n",
            "17      54  49.589311\n",
            "18      95  90.223003\n",
            "19      41  46.616114\n"
          ],
          "name": "stdout"
        }
      ]
    },
    {
      "cell_type": "code",
      "metadata": {
        "colab": {
          "base_uri": "https://localhost:8080/",
          "height": 281
        },
        "id": "EEkDUURMoENs",
        "outputId": "13dc6d9e-1557-4b25-c68f-45f29375c41e"
      },
      "source": [
        "plt.plot(dataf['Actual'])\n",
        "plt.plot(dataf['Predicted'],'^')\n",
        "plt.title('Actual vs Predicted')\n",
        "plt.grid()\n",
        "plt.show()"
      ],
      "execution_count": null,
      "outputs": [
        {
          "output_type": "display_data",
          "data": {
            "image/png": "[encoded data removed]",
            "text/plain": [
              "<Figure size 432x288 with 1 Axes>"
            ]
          },
          "metadata": {
            "tags": [],
            "needs_background": "light"
          }
        }
      ]
    },
    {
      "cell_type": "code",
      "metadata": {
        "colab": {
          "base_uri": "https://localhost:8080/"
        },
        "id": "KbNNPBlHoVdn",
        "outputId": "fdcf7be3-6486-41ba-bb51-ed661553d109"
      },
      "source": [
        "#R-Squared value for Acuuracy of Learning to the Machine (For Tested Data)\n",
        "#For only 20% data the score is 79%\n",
        "# This represents very strong relation of data\n",
        "Test_R_Squared_value = testregressor.score(X_test,y_test)\n",
        "Test_R_Squared_value"
      ],
      "execution_count": null,
      "outputs": [
        {
          "output_type": "execute_result",
          "data": {
            "text/plain": [
              "0.9617402761556321"
            ]
          },
          "metadata": {
            "tags": []
          },
          "execution_count": 18
        }
      ]
    },
    {
      "cell_type": "code",
      "metadata": {
        "colab": {
          "base_uri": "https://localhost:8080/"
        },
        "id": "_RsFX8sOrEok",
        "outputId": "d0fdc9be-4e80-4245-f01a-7d7db1057b72"
      },
      "source": [
        "\n",
        "#Giving real time user input\n",
        "hours = 9.25\n",
        "test = np.array([hours])\n",
        "test = test.reshape(-1, 1)\n",
        "own_pred = trainregressor.predict([[hours]])\n",
        "print(\"No of Hours = {}\".format(hours))\n",
        "print(\"Predicted Score = {}\".format(own_pred[0]))"
      ],
      "execution_count": null,
      "outputs": [
        {
          "output_type": "stream",
          "text": [
            "No of Hours = 9.25\n",
            "Predicted Score = 93.69173248737539\n"
          ],
          "name": "stdout"
        }
      ]
    },
    {
      "cell_type": "markdown",
      "metadata": {
        "id": "ekTfkkk1rP8j"
      },
      "source": [
        "**From the above result we can say that if a studied for 9.25 hours/day then student got 93.69% Marks**\n",
        "\n",
        "##**Thank you**"
      ]
    }
  ]
}